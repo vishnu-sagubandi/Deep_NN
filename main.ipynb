{
 "cells": [
  {
   "cell_type": "markdown",
   "metadata": {
    "tags": []
   },
   "source": [
    "## Building Neural Network to classify mnist dataset of digits\n",
    "\n",
    "Lets build a neural network using our implemented classes"
   ]
  },
  {
   "cell_type": "markdown",
   "metadata": {},
   "source": [
    "First let's <code>import</code> our module"
   ]
  },
  {
   "cell_type": "code",
   "execution_count": 1,
   "metadata": {},
   "outputs": [],
   "source": [
    "from NN_model import *"
   ]
  },
  {
   "cell_type": "markdown",
   "metadata": {},
   "source": [
    "To train we need data so let's get data from <code>keras.datasets</code"
   ]
  },
  {
   "cell_type": "code",
   "execution_count": 25,
   "metadata": {},
   "outputs": [
    {
     "data": {
      "text/plain": [
       "((60000, 28, 28), (60000,))"
      ]
     },
     "execution_count": 25,
     "metadata": {},
     "output_type": "execute_result"
    }
   ],
   "source": [
    "from tensorflow.keras.datasets import mnist\n",
    "\n",
    "(X_train, Y_train), (X_val, Y_val) = mnist.load_data()\n",
    "\n",
    "X_train.shape, Y_train.shape"
   ]
  },
  {
   "cell_type": "markdown",
   "metadata": {
    "tags": []
   },
   "source": [
    "Got data! Now let's reshape the data to train our model."
   ]
  },
  {
   "cell_type": "code",
   "execution_count": 26,
   "metadata": {
    "tags": []
   },
   "outputs": [
    {
     "data": {
      "text/plain": [
       "(784, 60000)"
      ]
     },
     "execution_count": 26,
     "metadata": {},
     "output_type": "execute_result"
    }
   ],
   "source": [
    "X_train = X_train.T.reshape(28*28, -1)\n",
    "X_val = X_val.T.reshape(28*28, -1)\n",
    "\n",
    "X_train.shape"
   ]
  },
  {
   "cell_type": "markdown",
   "metadata": {},
   "source": [
    "As we know our model accepts only **one-hot** labels, so we need to convert labels into **one-hot** vectors"
   ]
  },
  {
   "cell_type": "code",
   "execution_count": 27,
   "metadata": {},
   "outputs": [
    {
     "data": {
      "text/plain": [
       "(10, 60000)"
      ]
     },
     "execution_count": 27,
     "metadata": {},
     "output_type": "execute_result"
    }
   ],
   "source": [
    "num_classes = np.max(Y_train) + 1\n",
    "Y_train_OH = np.zeros((num_classes, Y_train.shape[0]))\n",
    "Y_val_OH = np.zeros((num_classes, Y_val.shape[0]))\n",
    "\n",
    "for i, el in enumerate(Y_train):\n",
    "    Y_train_OH[el][i] = 1\n",
    "    \n",
    "for i, el in enumerate(Y_val):\n",
    "    Y_val_OH[el][i] = 1\n",
    "    \n",
    "Y_train_OH.shape"
   ]
  },
  {
   "cell_type": "markdown",
   "metadata": {
    "tags": []
   },
   "source": [
    "Now let's build our model"
   ]
  },
  {
   "cell_type": "code",
   "execution_count": 28,
   "metadata": {},
   "outputs": [],
   "source": [
    "mnist_model = NN_model(input_size=28*28,\n",
    "                       layers=[\n",
    "                           Layer(512, activation=\"relu\"),\n",
    "                           Layer(256, activation=\"relu\"),\n",
    "                           Layer(128, activation=\"relu\"),\n",
    "                           Layer(10, activation=\"softmax\")],\n",
    "                      loss_type=\"categorical_crossentropy\", print_loss=True\n",
    "                      )"
   ]
  },
  {
   "cell_type": "markdown",
   "metadata": {},
   "source": [
    "So let's fit the model on training data"
   ]
  },
  {
   "cell_type": "code",
   "execution_count": 29,
   "metadata": {},
   "outputs": [
    {
     "name": "stdout",
     "output_type": "stream",
     "text": [
      "Epoch : [ > > > > > > > > > > > > > > > > > > > > > > > > > ] 49 / 50 Loss: 0.9354823620468391 Accuracy: 0.73888333333333335\n",
      "Done Training\n",
      "Total training loss : 0.9354823620468391 and accuracy on training set : 0.7388833333333333\n"
     ]
    }
   ],
   "source": [
    "mnist_model.fit(X_train, Y_train_OH, epochs=50, learning_rate=0.01)"
   ]
  },
  {
   "cell_type": "code",
   "execution_count": null,
   "metadata": {},
   "outputs": [],
   "source": []
  }
 ],
 "metadata": {
  "kernelspec": {
   "display_name": "Python 3",
   "language": "python",
   "name": "python3"
  },
  "language_info": {
   "codemirror_mode": {
    "name": "ipython",
    "version": 3
   },
   "file_extension": ".py",
   "mimetype": "text/x-python",
   "name": "python",
   "nbconvert_exporter": "python",
   "pygments_lexer": "ipython3",
   "version": "3.8.3"
  }
 },
 "nbformat": 4,
 "nbformat_minor": 4
}
