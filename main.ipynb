{
  "nbformat": 4,
  "nbformat_minor": 0,
  "metadata": {
    "kernelspec": {
      "display_name": "Python 3",
      "language": "python",
      "name": "python3"
    },
    "language_info": {
      "codemirror_mode": {
        "name": "ipython",
        "version": 3
      },
      "file_extension": ".py",
      "mimetype": "text/x-python",
      "name": "python",
      "nbconvert_exporter": "python",
      "pygments_lexer": "ipython3",
      "version": "3.8.3"
    },
    "colab": {
      "name": "main.ipynb",
      "provenance": []
    }
  },
  "cells": [
    {
      "cell_type": "markdown",
      "metadata": {
        "tags": [],
        "id": "DEVspLVY86qm",
        "colab_type": "text"
      },
      "source": [
        "## Building Neural Network to classify mnist dataset of digits\n",
        "\n",
        "Lets build a neural network using our implemented classes\n",
        "\n",
        "[![Open In Colab](https://colab.research.google.com/assets/colab-badge.svg)](https://colab.research.google.com/github/vstark21/Deep_NN/blob/master/main.ipynb)"
      ]
    },
    {
      "cell_type": "markdown",
      "metadata": {
        "id": "gQpv_p_X86qs",
        "colab_type": "text"
      },
      "source": [
        "First let's <code>import</code> our module"
      ]
    },
    {
      "cell_type": "code",
      "metadata": {
        "id": "7ympUPlM86qx",
        "colab_type": "code",
        "colab": {}
      },
      "source": [
        "from NN_model import *"
      ],
      "execution_count": 82,
      "outputs": []
    },
    {
      "cell_type": "markdown",
      "metadata": {
        "id": "X7hnuW_b86rC",
        "colab_type": "text"
      },
      "source": [
        "To train we need data so let's get data from <code>keras.datasets</code"
      ]
    },
    {
      "cell_type": "code",
      "metadata": {
        "id": "6-S0NZw886rF",
        "colab_type": "code",
        "colab": {
          "base_uri": "https://localhost:8080/",
          "height": 34
        },
        "outputId": "e98febea-c48d-45bc-bd66-e77c060aaa6b"
      },
      "source": [
        "from tensorflow.keras.datasets import mnist\n",
        "\n",
        "(X_train, Y_train), (X_val, Y_val) = mnist.load_data()\n",
        "\n",
        "X_train.shape, Y_train.shape"
      ],
      "execution_count": 83,
      "outputs": [
        {
          "output_type": "execute_result",
          "data": {
            "text/plain": [
              "((60000, 28, 28), (60000,))"
            ]
          },
          "metadata": {
            "tags": []
          },
          "execution_count": 83
        }
      ]
    },
    {
      "cell_type": "markdown",
      "metadata": {
        "tags": [],
        "id": "VDfQ0GZV86rS",
        "colab_type": "text"
      },
      "source": [
        "Got data! Now let's reshape the data to train our model."
      ]
    },
    {
      "cell_type": "code",
      "metadata": {
        "tags": [],
        "id": "kvjVNuWr86rW",
        "colab_type": "code",
        "colab": {
          "base_uri": "https://localhost:8080/",
          "height": 34
        },
        "outputId": "ef4106c2-b706-41e4-ec06-8a0ec05c368f"
      },
      "source": [
        "X_train = X_train.T.reshape(28*28, -1)\n",
        "X_val = X_val.T.reshape(28*28, -1)\n",
        "\n",
        "X_train.shape"
      ],
      "execution_count": 84,
      "outputs": [
        {
          "output_type": "execute_result",
          "data": {
            "text/plain": [
              "(784, 60000)"
            ]
          },
          "metadata": {
            "tags": []
          },
          "execution_count": 84
        }
      ]
    },
    {
      "cell_type": "markdown",
      "metadata": {
        "id": "86z9N6DS86rg",
        "colab_type": "text"
      },
      "source": [
        "As we know our model accepts only **one-hot** labels, so we need to convert labels into **one-hot** vectors"
      ]
    },
    {
      "cell_type": "code",
      "metadata": {
        "id": "_aJE1UkN86ri",
        "colab_type": "code",
        "colab": {
          "base_uri": "https://localhost:8080/",
          "height": 34
        },
        "outputId": "d1339827-947b-4cd4-f9fb-baaf523be038"
      },
      "source": [
        "num_classes = np.max(Y_train) + 1\n",
        "Y_train_OH = np.zeros((num_classes, Y_train.shape[0]))\n",
        "Y_val_OH = np.zeros((num_classes, Y_val.shape[0]))\n",
        "\n",
        "for i, el in enumerate(Y_train):\n",
        "    Y_train_OH[el][i] = 1\n",
        "    \n",
        "for i, el in enumerate(Y_val):\n",
        "    Y_val_OH[el][i] = 1\n",
        "    \n",
        "Y_train_OH.shape"
      ],
      "execution_count": 85,
      "outputs": [
        {
          "output_type": "execute_result",
          "data": {
            "text/plain": [
              "(10, 60000)"
            ]
          },
          "metadata": {
            "tags": []
          },
          "execution_count": 85
        }
      ]
    },
    {
      "cell_type": "markdown",
      "metadata": {
        "tags": [],
        "id": "kZFcog0e86rs",
        "colab_type": "text"
      },
      "source": [
        "Now let's build our model"
      ]
    },
    {
      "cell_type": "code",
      "metadata": {
        "id": "tlZI5hl786ru",
        "colab_type": "code",
        "colab": {}
      },
      "source": [
        "mnist_model = NN_model(input_size=28*28,\n",
        "                       layers=[\n",
        "                           Layer(512, activation=\"relu\"),\n",
        "                           Layer(256, activation=\"relu\"),\n",
        "                           Layer(128, activation=\"relu\"),\n",
        "                           Layer(10, activation=\"softmax\")],\n",
        "                      loss_type=\"categorical_crossentropy\", print_loss=True\n",
        "                      )"
      ],
      "execution_count": 86,
      "outputs": []
    },
    {
      "cell_type": "markdown",
      "metadata": {
        "id": "JXCQJcan86r3",
        "colab_type": "text"
      },
      "source": [
        "So let's fit the model on *training data*"
      ]
    },
    {
      "cell_type": "code",
      "metadata": {
        "id": "HUSq8am286r4",
        "colab_type": "code",
        "colab": {
          "base_uri": "https://localhost:8080/",
          "height": 67
        },
        "outputId": "44bccd02-5641-4e56-d877-023b733cedc7"
      },
      "source": [
        "mnist_model.fit(X_train, Y_train_OH, epochs=25, learning_rate=0.02)"
      ],
      "execution_count": 87,
      "outputs": [
        {
          "output_type": "stream",
          "text": [
            "Epoch : [ > > > > > > > > > > > > > > > > > > > > > > > > > ] 24 / 25 Loss: 0.9404672093891067 Accuracy: 0.7528\n",
            "Done Training\n",
            "Total training loss : 0.9404672093891067 and accuracy on training set : 0.7528\n"
          ],
          "name": "stdout"
        }
      ]
    },
    {
      "cell_type": "markdown",
      "metadata": {
        "id": "k2dU2efECGYK",
        "colab_type": "text"
      },
      "source": [
        "Now let's evaluate out model on *Validation data*"
      ]
    },
    {
      "cell_type": "code",
      "metadata": {
        "id": "5zdmX2ss86sB",
        "colab_type": "code",
        "colab": {
          "base_uri": "https://localhost:8080/",
          "height": 34
        },
        "outputId": "99f3508f-6dc2-48f3-985e-b34b0a30c0d0"
      },
      "source": [
        "mnist_model.evaluate(X_val, Y_val_OH)"
      ],
      "execution_count": 88,
      "outputs": [
        {
          "output_type": "stream",
          "text": [
            "Loss : 0.85337 and Accuracy : 0.7547\n"
          ],
          "name": "stdout"
        }
      ]
    },
    {
      "cell_type": "markdown",
      "metadata": {
        "id": "DvE9gCB9E3Mh",
        "colab_type": "text"
      },
      "source": [
        "Now lets try another model on sklearn's digits dataset\n",
        "\n",
        "Lets first get data"
      ]
    },
    {
      "cell_type": "code",
      "metadata": {
        "id": "4HLsKXx1E_P8",
        "colab_type": "code",
        "colab": {
          "base_uri": "https://localhost:8080/",
          "height": 34
        },
        "outputId": "382bc4a9-e2a0-4cfa-9034-28e3c996bfe8"
      },
      "source": [
        "from sklearn.datasets import load_digits\n",
        "from sklearn.model_selection import train_test_split\n",
        "\n",
        "data = load_digits()\n",
        "X, Y = data[\"data\"], data[\"target\"]\n",
        "\n",
        "X_train, X_val, Y_train, Y_val = train_test_split(X, Y, random_state=42, test_size=0.3)\n",
        "X_train.shape"
      ],
      "execution_count": 89,
      "outputs": [
        {
          "output_type": "execute_result",
          "data": {
            "text/plain": [
              "(1257, 64)"
            ]
          },
          "metadata": {
            "tags": []
          },
          "execution_count": 89
        }
      ]
    },
    {
      "cell_type": "markdown",
      "metadata": {
        "id": "ROzuOq98FmBj",
        "colab_type": "text"
      },
      "source": [
        "Now lets reshape the data"
      ]
    },
    {
      "cell_type": "code",
      "metadata": {
        "id": "XcdkXDRnFqT4",
        "colab_type": "code",
        "colab": {
          "base_uri": "https://localhost:8080/",
          "height": 34
        },
        "outputId": "86bdd582-eaa4-49da-b7cf-d0e17dd9dd44"
      },
      "source": [
        "X_train, X_val = X_train.T / 16.0, X_val.T / 16.0\n",
        "num_classes = np.max(Y_train) + 1\n",
        "Y_train_OH = np.zeros((num_classes, Y_train.shape[0]))\n",
        "Y_val_OH = np.zeros((num_classes, Y_val.shape[0]))\n",
        "\n",
        "for i, el in enumerate(Y_train):\n",
        "    Y_train_OH[el][i] = 1\n",
        "    \n",
        "for i, el in enumerate(Y_val):\n",
        "    Y_val_OH[el][i] = 1\n",
        "    \n",
        "Y_train_OH.shape"
      ],
      "execution_count": 90,
      "outputs": [
        {
          "output_type": "execute_result",
          "data": {
            "text/plain": [
              "(10, 1257)"
            ]
          },
          "metadata": {
            "tags": []
          },
          "execution_count": 90
        }
      ]
    },
    {
      "cell_type": "markdown",
      "metadata": {
        "id": "PZyMtiabFz13",
        "colab_type": "text"
      },
      "source": [
        "Now let's create and train the model"
      ]
    },
    {
      "cell_type": "code",
      "metadata": {
        "id": "7yB9cN2rFzAi",
        "colab_type": "code",
        "colab": {}
      },
      "source": [
        "digits_model = NN_model(input_size=64,\n",
        "                       layers=[\n",
        "                           Layer(32, activation=\"relu\"),\n",
        "                           Layer(16, activation=\"relu\"),\n",
        "                           Layer(10, activation=\"softmax\")],\n",
        "                      loss_type=\"categorical_crossentropy\", print_loss=True\n",
        "                      )"
      ],
      "execution_count": 91,
      "outputs": []
    },
    {
      "cell_type": "code",
      "metadata": {
        "id": "zLMsrjMzGEIh",
        "colab_type": "code",
        "colab": {
          "base_uri": "https://localhost:8080/",
          "height": 67
        },
        "outputId": "7aa9b028-4383-4d0d-c10a-53b5e73dd38e"
      },
      "source": [
        "digits_model.fit(X_train, Y_train_OH, epochs=5000, learning_rate=0.08)"
      ],
      "execution_count": 92,
      "outputs": [
        {
          "output_type": "stream",
          "text": [
            "Epoch : [ > > > > > > > > > > > > > > > > > > > > > > > > > ] 4999 / 5000 Loss: 0.04852218342732821 Accuracy: 0.9856801909307876\n",
            "Done Training\n",
            "Total training loss : 0.04852218342732821 and accuracy on training set : 0.9856801909307876\n"
          ],
          "name": "stdout"
        }
      ]
    },
    {
      "cell_type": "code",
      "metadata": {
        "id": "e2vFek6rIWkg",
        "colab_type": "code",
        "colab": {
          "base_uri": "https://localhost:8080/",
          "height": 34
        },
        "outputId": "80b7e0f0-0946-452a-83e3-caadfd4826bb"
      },
      "source": [
        "digits_model.evaluate(X_val, Y_val_OH)"
      ],
      "execution_count": 94,
      "outputs": [
        {
          "output_type": "stream",
          "text": [
            "Loss : 0.05426 and Accuracy : 0.9277777777777778\n"
          ],
          "name": "stdout"
        }
      ]
    },
    {
      "cell_type": "markdown",
      "metadata": {
        "id": "eN_4sNFfIxtF",
        "colab_type": "text"
      },
      "source": [
        "Not bad.. It seems <code>digits_model</code> overfitted training data\n",
        "and <code>mnist_model</code> performed good on mnist data : )"
      ]
    }
  ]
}