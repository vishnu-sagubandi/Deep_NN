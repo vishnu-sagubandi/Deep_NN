{
 "cells": [
  {
   "cell_type": "code",
   "execution_count": 1,
   "metadata": {
    "tags": []
   },
   "outputs": [],
   "source": [
    "from NN_model import *\n",
    "from data_gen import *\n",
    "import numpy as np\n",
    "from sklearn.datasets import load_digits\n",
    "from sklearn.model_selection import train_test_split"
   ]
  },
  {
   "cell_type": "code",
   "execution_count": 2,
   "metadata": {},
   "outputs": [],
   "source": [
    "data = load_digits()\n",
    "X = data[\"data\"]\n",
    "target = data[\"target\"]\n",
    "X.shape\n",
    "\n",
    "X, x, targetY, targety = train_test_split(X, target, random_state=42, test_size=0.3)\n",
    "\n"
   ]
  },
  {
   "cell_type": "code",
   "execution_count": 3,
   "metadata": {
    "tags": []
   },
   "outputs": [
    {
     "output_type": "execute_result",
     "data": {
      "text/plain": "(10, 540)"
     },
     "metadata": {},
     "execution_count": 3
    }
   ],
   "source": [
    "X = X.T\n",
    "x = x.T\n",
    "Y = one_hot(10, targetY)\n",
    "y = one_hot(10, targety)\n",
    "y.shape\n"
   ]
  },
  {
   "cell_type": "code",
   "execution_count": 4,
   "metadata": {
    "tags": []
   },
   "outputs": [
    {
     "output_type": "stream",
     "name": "stdout",
     "text": "Epoch : [ > > > > > > > > > > > > > > > > > > > > > > > > > ] 2999 / 3000 Loss: 0.02054605033391991 Accuracy: 0.9992044550517104\nDone Training\nTotal training loss : 0.02054605033391991 and accuracy on training set : 0.9992044550517104\n"
    }
   ],
   "source": [
    "model = NN_model(input_size=64, layers=[\n",
    "    Layer(32, activation=\"relu\"),\n",
    "    Layer(10, activation=\"softmax\")\n",
    "], loss_type=\"categorical_crossentropy\", print_loss=True)\n",
    "\n",
    "model.fit(X, Y, epochs=3000, learning_rate=0.01)"
   ]
  },
  {
   "cell_type": "code",
   "execution_count": 5,
   "metadata": {
    "tags": []
   },
   "outputs": [
    {
     "output_type": "stream",
     "name": "stdout",
     "text": "Loss : 0.03297 and Accuracy : 0.9703703703703703\n"
    }
   ],
   "source": [
    "model.evaluate(x, y)"
   ]
  },
  {
   "cell_type": "code",
   "execution_count": null,
   "metadata": {},
   "outputs": [],
   "source": []
  }
 ],
 "metadata": {
  "kernelspec": {
   "display_name": "Python 3",
   "language": "python",
   "name": "python3"
  },
  "language_info": {
   "codemirror_mode": {
    "name": "ipython",
    "version": 3
   },
   "file_extension": ".py",
   "mimetype": "text/x-python",
   "name": "python",
   "nbconvert_exporter": "python",
   "pygments_lexer": "ipython3",
   "version": "3.8.3-final"
  }
 },
 "nbformat": 4,
 "nbformat_minor": 4
}